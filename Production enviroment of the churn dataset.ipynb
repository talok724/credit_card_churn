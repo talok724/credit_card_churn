{
 "cells": [
  {
   "cell_type": "markdown",
   "id": "4587d8b8",
   "metadata": {},
   "source": [
    "# Production Enviroment"
   ]
  },
  {
   "cell_type": "code",
   "execution_count": 20,
   "id": "56f628e9",
   "metadata": {},
   "outputs": [],
   "source": [
    "import pandas as pd\n",
    "import pickle as pkl\n",
    "\n",
    "# Load a pipeline object from a pickled file\n",
    "\n",
    "# Open the pickled file in read binary ('rb') mode\n",
    "with open('pipe.pkl', 'rb') as file:\n",
    "    # Use the pickle.load() function to deserialize the pipeline\n",
    "    pipe = pkl.load(file)\n",
    "\n",
    "# The 'pipe' object now contains the loaded pipeline from the pickled file\n",
    "# You can use 'pipe' to perform transformations and predictions"
   ]
  },
  {
   "cell_type": "code",
   "execution_count": 21,
   "id": "21b31837",
   "metadata": {},
   "outputs": [
    {
     "name": "stdout",
     "output_type": "stream",
     "text": [
      "Enter your Credit Score: 654\n",
      "Enter your Geographic Location [France, Germany, Spain]: Spain\n",
      "Enter your Gender [Male, Female]: Male\n",
      "Enter your Age: 56\n",
      "Enter your Tenure: 8\n",
      "Enter your Balance: 6153\n",
      "Enter your NumOfProducts [1, 2]: 1\n",
      "Enter your HasCrCard [1, 0]: 1\n",
      "Enter your IsActiveMember [1, 0]: 1\n",
      "Enter your Estimated Salary: 6156\n"
     ]
    }
   ],
   "source": [
    "# Gather user input for various features\n",
    "CreditScore = int(input(\"Enter your Credit Score: \"))\n",
    "Geography = str(input(\"Enter your Geographic Location [France, Germany, Spain]: \"))\n",
    "Gender = str(input(\"Enter your Gender [Male, Female]: \"))\n",
    "Age = int(input(\"Enter your Age: \"))\n",
    "Tenure = int(input(\"Enter your Tenure: \"))\n",
    "Balance = float(input(\"Enter your Balance: \"))\n",
    "NumOfProducts = int(input(\"Enter your NumOfProducts [1, 2]: \"))\n",
    "HasCrCard = int(input(\"Enter your HasCrCard [1, 0]: \"))\n",
    "IsActiveMember = int(input(\"Enter your IsActiveMember [1, 0]: \"))\n",
    "EstimatedSalary = float(input(\"Enter your Estimated Salary: \"))\n",
    "\n",
    "# Create a dictionary to hold the input data\n",
    "data = {\n",
    "    'CreditScore': CreditScore,\n",
    "    'Geography': Geography,\n",
    "    'Gender': Gender,\n",
    "    'Age': Age,\n",
    "    'Tenure': Tenure,\n",
    "    'Balance': Balance,\n",
    "    'NumOfProducts': NumOfProducts,\n",
    "    'HasCrCard': HasCrCard,\n",
    "    'IsActiveMember': IsActiveMember,\n",
    "    'EstimatedSalary': EstimatedSalary,\n",
    "}\n",
    "\n",
    "# Create a DataFrame with the collected input data\n",
    "df = pd.DataFrame(data, index=[0])\n"
   ]
  },
  {
   "cell_type": "code",
   "execution_count": 22,
   "id": "6d7d6712",
   "metadata": {},
   "outputs": [
    {
     "data": {
      "text/html": [
       "<div>\n",
       "<style scoped>\n",
       "    .dataframe tbody tr th:only-of-type {\n",
       "        vertical-align: middle;\n",
       "    }\n",
       "\n",
       "    .dataframe tbody tr th {\n",
       "        vertical-align: top;\n",
       "    }\n",
       "\n",
       "    .dataframe thead th {\n",
       "        text-align: right;\n",
       "    }\n",
       "</style>\n",
       "<table border=\"1\" class=\"dataframe\">\n",
       "  <thead>\n",
       "    <tr style=\"text-align: right;\">\n",
       "      <th></th>\n",
       "      <th>CreditScore</th>\n",
       "      <th>Geography</th>\n",
       "      <th>Gender</th>\n",
       "      <th>Age</th>\n",
       "      <th>Tenure</th>\n",
       "      <th>Balance</th>\n",
       "      <th>NumOfProducts</th>\n",
       "      <th>HasCrCard</th>\n",
       "      <th>IsActiveMember</th>\n",
       "      <th>EstimatedSalary</th>\n",
       "    </tr>\n",
       "  </thead>\n",
       "  <tbody>\n",
       "    <tr>\n",
       "      <th>0</th>\n",
       "      <td>654</td>\n",
       "      <td>Spain</td>\n",
       "      <td>Male</td>\n",
       "      <td>56</td>\n",
       "      <td>8</td>\n",
       "      <td>6153.0</td>\n",
       "      <td>1</td>\n",
       "      <td>1</td>\n",
       "      <td>1</td>\n",
       "      <td>6156.0</td>\n",
       "    </tr>\n",
       "  </tbody>\n",
       "</table>\n",
       "</div>"
      ],
      "text/plain": [
       "   CreditScore Geography Gender  Age  Tenure  Balance  NumOfProducts  \\\n",
       "0          654     Spain   Male   56       8   6153.0              1   \n",
       "\n",
       "   HasCrCard  IsActiveMember  EstimatedSalary  \n",
       "0          1               1           6156.0  "
      ]
     },
     "execution_count": 22,
     "metadata": {},
     "output_type": "execute_result"
    }
   ],
   "source": [
    "df"
   ]
  },
  {
   "cell_type": "code",
   "execution_count": 23,
   "id": "e5b7afd9",
   "metadata": {},
   "outputs": [
    {
     "data": {
      "text/plain": [
       "array([0.])"
      ]
     },
     "execution_count": 23,
     "metadata": {},
     "output_type": "execute_result"
    }
   ],
   "source": [
    "pipe.predict(df)"
   ]
  },
  {
   "cell_type": "code",
   "execution_count": null,
   "id": "0c88ab5f",
   "metadata": {},
   "outputs": [],
   "source": []
  }
 ],
 "metadata": {
  "kernelspec": {
   "display_name": "Python 3 (ipykernel)",
   "language": "python",
   "name": "python3"
  },
  "language_info": {
   "codemirror_mode": {
    "name": "ipython",
    "version": 3
   },
   "file_extension": ".py",
   "mimetype": "text/x-python",
   "name": "python",
   "nbconvert_exporter": "python",
   "pygments_lexer": "ipython3",
   "version": "3.11.3"
  }
 },
 "nbformat": 4,
 "nbformat_minor": 5
}
